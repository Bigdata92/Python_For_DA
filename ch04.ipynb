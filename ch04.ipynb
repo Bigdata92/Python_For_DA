{
  "nbformat": 4,
  "nbformat_minor": 0,
  "metadata": {
    "kernelspec": {
      "display_name": "Python 3",
      "language": "python",
      "name": "python3"
    },
    "language_info": {
      "codemirror_mode": {
        "name": "ipython",
        "version": 3
      },
      "file_extension": ".py",
      "mimetype": "text/x-python",
      "name": "python",
      "nbconvert_exporter": "python",
      "pygments_lexer": "ipython3",
      "version": "3.6.0"
    },
    "colab": {
      "name": "ch04.ipynb",
      "version": "0.3.2",
      "provenance": [],
      "collapsed_sections": [
        "6zUsm9HWJZJk",
        "Pxnb2C63JZJz",
        "ebF-8EgTJZJ_",
        "Mmr9ONfGJZKU",
        "EHQ62bwlJZKo",
        "9a6iybhBJZK1",
        "rBG7Ei9RJZLK",
        "MdeUBhr3JZLS",
        "ymcg4_wsJZLa",
        "pjdomnuiJZLf",
        "HYmuvUdyJZLl",
        "SUmVllaUJZLs",
        "fe8Ge8VXJZLw",
        "STth3lTlJZLz",
        "wZ9czmTJJZL8",
        "hIibJmLLMEiB",
        "JQzjS3WyJZMI",
        "xi00YuDNJZMQ",
        "iYUFxhzaJZMT",
        "gbWOxM4HJZMZ",
        "BtmaX7b5JZMd"
      ],
      "include_colab_link": true
    }
  },
  "cells": [
    {
      "cell_type": "markdown",
      "metadata": {
        "id": "view-in-github",
        "colab_type": "text"
      },
      "source": [
        "<a href=\"https://colab.research.google.com/github/Bigdata92/Python_For_DA/blob/master/ch04.ipynb\" target=\"_parent\"><img src=\"https://colab.research.google.com/assets/colab-badge.svg\" alt=\"Open In Colab\"/></a>"
      ]
    },
    {
      "cell_type": "markdown",
      "metadata": {
        "deletable": true,
        "editable": true,
        "id": "6zUsm9HWJZJk",
        "colab_type": "text"
      },
      "source": [
        "# 4. NumPy Basics: Arrays and Vectorized Computation"
      ]
    },
    {
      "cell_type": "code",
      "metadata": {
        "deletable": true,
        "editable": true,
        "id": "1nTrqC2sJZJm",
        "colab_type": "code",
        "colab": {}
      },
      "source": [
        "import numpy as np\n",
        "np.random.seed(12345)\n",
        "import matplotlib.pyplot as plt\n",
        "plt.rc('figure', figsize=(10, 6))\n",
        "np.set_printoptions(precision=4, suppress=True)"
      ],
      "execution_count": 0,
      "outputs": []
    },
    {
      "cell_type": "code",
      "metadata": {
        "deletable": true,
        "editable": true,
        "id": "GLtXcFozJZJo",
        "colab_type": "code",
        "colab": {}
      },
      "source": [
        "import numpy as np # 성능 차이 확인\n",
        "my_arr = np.arange(1000000)\n",
        "my_list = list(range(1000000))"
      ],
      "execution_count": 0,
      "outputs": []
    },
    {
      "cell_type": "code",
      "metadata": {
        "deletable": true,
        "editable": true,
        "id": "9-cdk9TNJZJq",
        "colab_type": "code",
        "colab": {}
      },
      "source": [
        "%time for _ in range(10): my_arr2 = my_arr * 2 # 걸리는 시간 비교\n",
        "%time for _ in range(10): my_list2 = [x * 2 for x in my_list]"
      ],
      "execution_count": 0,
      "outputs": []
    },
    {
      "cell_type": "markdown",
      "metadata": {
        "deletable": true,
        "editable": true,
        "id": "m-1w8cUKJZJs",
        "colab_type": "text"
      },
      "source": [
        "## 4.1 The NumPy ndarray: A Multidimensional Array Object\n",
        "#### ndarray : N차원의 배열 객체, 대규모 데이터 집합 담는 빠르고 유연"
      ]
    },
    {
      "cell_type": "code",
      "metadata": {
        "deletable": true,
        "editable": true,
        "id": "3cGHIwPWJZJt",
        "colab_type": "code",
        "colab": {}
      },
      "source": [
        "import numpy as np\n",
        "# Generate some random data\n",
        "data = np.random.randn(2, 3)\n",
        "data"
      ],
      "execution_count": 0,
      "outputs": []
    },
    {
      "cell_type": "code",
      "metadata": {
        "deletable": true,
        "editable": true,
        "id": "lWiy3y83JZJv",
        "colab_type": "code",
        "colab": {}
      },
      "source": [
        "data * 10\n",
        "data + data"
      ],
      "execution_count": 0,
      "outputs": []
    },
    {
      "cell_type": "code",
      "metadata": {
        "deletable": true,
        "editable": true,
        "id": "zMJcu5v0JZJx",
        "colab_type": "code",
        "colab": {}
      },
      "source": [
        "data.shape\n",
        "data.dtype"
      ],
      "execution_count": 0,
      "outputs": []
    },
    {
      "cell_type": "markdown",
      "metadata": {
        "deletable": true,
        "editable": true,
        "id": "Pxnb2C63JZJz",
        "colab_type": "text"
      },
      "source": [
        "### 4.1.1 Creating ndarrays"
      ]
    },
    {
      "cell_type": "code",
      "metadata": {
        "deletable": true,
        "editable": true,
        "id": "ExnswN9tJZJ0",
        "colab_type": "code",
        "colab": {}
      },
      "source": [
        "data1 = [6, 7.5, 8, 0, 1]\n",
        "arr1 = np.array(data1) # 배열 생성 : array() 사용\n",
        "arr1"
      ],
      "execution_count": 0,
      "outputs": []
    },
    {
      "cell_type": "code",
      "metadata": {
        "deletable": true,
        "editable": true,
        "id": "Dk1aH6d8JZJ2",
        "colab_type": "code",
        "colab": {}
      },
      "source": [
        "data2 = [[1, 2, 3, 4], [5, 6, 7, 8]]\n",
        "arr2 = np.array(data2)\n",
        "arr2"
      ],
      "execution_count": 0,
      "outputs": []
    },
    {
      "cell_type": "code",
      "metadata": {
        "deletable": true,
        "editable": true,
        "id": "IWAbun1MJZJ4",
        "colab_type": "code",
        "colab": {}
      },
      "source": [
        "arr2.ndim\n",
        "arr2.shape"
      ],
      "execution_count": 0,
      "outputs": []
    },
    {
      "cell_type": "code",
      "metadata": {
        "deletable": true,
        "editable": true,
        "id": "BLSyDzpwJZJ6",
        "colab_type": "code",
        "colab": {}
      },
      "source": [
        "arr1.dtype\n",
        "arr2.dtype"
      ],
      "execution_count": 0,
      "outputs": []
    },
    {
      "cell_type": "code",
      "metadata": {
        "deletable": true,
        "editable": true,
        "id": "Qu2AjWO0JZJ8",
        "colab_type": "code",
        "colab": {}
      },
      "source": [
        "np.zeros(10) \n",
        "np.zeros((3, 6)) # 각각 0 들어있음\n",
        "np.empty((2, 3, 2))"
      ],
      "execution_count": 0,
      "outputs": []
    },
    {
      "cell_type": "code",
      "metadata": {
        "deletable": true,
        "editable": true,
        "id": "wpj0gOaHJZJ-",
        "colab_type": "code",
        "colab": {}
      },
      "source": [
        "np.arange(15)"
      ],
      "execution_count": 0,
      "outputs": []
    },
    {
      "cell_type": "markdown",
      "metadata": {
        "id": "BAA1IsutjgXk",
        "colab_type": "text"
      },
      "source": [
        "array : 입력data ndarray 변환\n",
        "asarray : 입력data ndarray 변환\n",
        "arange : ndarray 반환\n",
        "ones : 1 초기화\n",
        "zeros : 0 초기화\n",
        "empty : 메모리 할당하여 새로운 배열 생성\n",
        "full : 인자로 받은 dtype과 배열을 생성하고 인자로 받은 값으로 배열 채움\n",
        "eye : N X N 크기 단위행렬 생성"
      ]
    },
    {
      "cell_type": "markdown",
      "metadata": {
        "deletable": true,
        "editable": true,
        "id": "ebF-8EgTJZJ_",
        "colab_type": "text"
      },
      "source": [
        "### 4.1.2 Data Types for ndarrays\n",
        "#### dtype : metadata(data를 해석하기 위해 필요 정보) 담고 있음"
      ]
    },
    {
      "cell_type": "code",
      "metadata": {
        "deletable": true,
        "editable": true,
        "id": "QAUD0dLFJZKA",
        "colab_type": "code",
        "colab": {}
      },
      "source": [
        "arr1 = np.array([1, 2, 3], dtype=np.float64) # float, int : 자료형의 이름과 하나의 원소가 차지하는 비트 수\n",
        "arr2 = np.array([1, 2, 3], dtype=np.int32)\n",
        "arr1.dtype\n",
        "arr2.dtype"
      ],
      "execution_count": 0,
      "outputs": []
    },
    {
      "cell_type": "code",
      "metadata": {
        "deletable": true,
        "editable": true,
        "id": "2pERmOK8JZKD",
        "colab_type": "code",
        "colab": {}
      },
      "source": [
        "arr = np.array([1, 2, 3, 4, 5]) # astype : dtype을 명시적으로 반환(casting)\n",
        "arr.dtype\n",
        "float_arr = arr.astype(np.float64)\n",
        "float_arr.dtype"
      ],
      "execution_count": 0,
      "outputs": []
    },
    {
      "cell_type": "code",
      "metadata": {
        "deletable": true,
        "editable": true,
        "id": "6JRdq-s_JZKE",
        "colab_type": "code",
        "colab": {}
      },
      "source": [
        "arr = np.array([3.7, -1.2, -2.6, 0.5, 12.9, 10.1])\n",
        "arr\n",
        "arr.astype(np.int32)"
      ],
      "execution_count": 0,
      "outputs": []
    },
    {
      "cell_type": "code",
      "metadata": {
        "deletable": true,
        "editable": true,
        "id": "pW1SZ3Q_JZKF",
        "colab_type": "code",
        "colab": {}
      },
      "source": [
        "numeric_strings = np.array(['1.25', '-9.6', '42'], dtype=np.string_)\n",
        "numeric_strings.astype(float) # 형변환 실패시 ValueError 예외 "
      ],
      "execution_count": 0,
      "outputs": []
    },
    {
      "cell_type": "code",
      "metadata": {
        "deletable": true,
        "editable": true,
        "id": "QYCsuvlgJZKH",
        "colab_type": "code",
        "colab": {}
      },
      "source": [
        "int_array = np.arange(10)\n",
        "calibers = np.array([.22, .270, .357, .380, .44, .50], dtype=np.float64)\n",
        "int_array.astype(calibers.dtype)"
      ],
      "execution_count": 0,
      "outputs": []
    },
    {
      "cell_type": "code",
      "metadata": {
        "deletable": true,
        "editable": true,
        "id": "LtTNGNy_JZKI",
        "colab_type": "code",
        "colab": {}
      },
      "source": [
        "empty_uint32 = np.empty(8, dtype='u4') #u4 : 축약코드\n",
        "empty_uint32"
      ],
      "execution_count": 0,
      "outputs": []
    },
    {
      "cell_type": "markdown",
      "metadata": {
        "deletable": true,
        "editable": true,
        "id": "GLKouLYRJZKK",
        "colab_type": "text"
      },
      "source": [
        "### 4.1.3 Arithmetic with NumPy Arrays\n",
        "#### 벡터화 : for문 작성하지X data 일괄 처리"
      ]
    },
    {
      "cell_type": "code",
      "metadata": {
        "deletable": true,
        "editable": true,
        "id": "MTvkb2yIJZKK",
        "colab_type": "code",
        "colab": {}
      },
      "source": [
        "arr = np.array([[1., 2., 3.], [4., 5., 6.]])\n",
        "arr\n",
        "arr * arr\n",
        "arr - arr"
      ],
      "execution_count": 0,
      "outputs": []
    },
    {
      "cell_type": "code",
      "metadata": {
        "deletable": true,
        "editable": true,
        "id": "UPeOkvx4JZKN",
        "colab_type": "code",
        "colab": {}
      },
      "source": [
        "1 / arr\n",
        "arr ** 0.5"
      ],
      "execution_count": 0,
      "outputs": []
    },
    {
      "cell_type": "code",
      "metadata": {
        "deletable": true,
        "editable": true,
        "id": "WiAZAaM1JZKT",
        "colab_type": "code",
        "colab": {}
      },
      "source": [
        "arr2 = np.array([[0., 4., 1.], [7., 2., 12.]])\n",
        "arr2\n",
        "arr2 > arr"
      ],
      "execution_count": 0,
      "outputs": []
    },
    {
      "cell_type": "markdown",
      "metadata": {
        "deletable": true,
        "editable": true,
        "id": "Mmr9ONfGJZKU",
        "colab_type": "text"
      },
      "source": [
        "### 4.1.4 Basic Indexing and Slicing"
      ]
    },
    {
      "cell_type": "code",
      "metadata": {
        "deletable": true,
        "editable": true,
        "id": "tMyWarTbJZKV",
        "colab_type": "code",
        "colab": {}
      },
      "source": [
        "arr = np.arange(10)\n",
        "arr\n",
        "arr[5]\n",
        "arr[5:8]\n",
        "arr[5:8] = 12 # 배열 조각(=뷰) : data 복사X, 뷰에 대한 변경 원본 배열에 반영\n",
        "arr"
      ],
      "execution_count": 0,
      "outputs": []
    },
    {
      "cell_type": "code",
      "metadata": {
        "deletable": true,
        "editable": true,
        "id": "2XU5IuYUJZKX",
        "colab_type": "code",
        "colab": {}
      },
      "source": [
        "arr_slice = arr[5:8]\n",
        "arr_slice"
      ],
      "execution_count": 0,
      "outputs": []
    },
    {
      "cell_type": "code",
      "metadata": {
        "deletable": true,
        "editable": true,
        "id": "dyZa5FUtJZKZ",
        "colab_type": "code",
        "colab": {}
      },
      "source": [
        "arr_slice[1] = 12345\n",
        "arr"
      ],
      "execution_count": 0,
      "outputs": []
    },
    {
      "cell_type": "code",
      "metadata": {
        "deletable": true,
        "editable": true,
        "id": "AmgBL7-DJZKa",
        "colab_type": "code",
        "colab": {}
      },
      "source": [
        "arr_slice[:] = 64 # ndarray 슬라이스의 복사본 얻는 방법 : arr[5:8].copy()\n",
        "arr"
      ],
      "execution_count": 0,
      "outputs": []
    },
    {
      "cell_type": "code",
      "metadata": {
        "deletable": true,
        "editable": true,
        "id": "kSIhKvsSJZKc",
        "colab_type": "code",
        "colab": {}
      },
      "source": [
        "arr2d = np.array([[1, 2, 3], [4, 5, 6], [7, 8, 9]]) # 2차원 배열에서 각 색인에 해당하는 요소 : 1차원 배열\n",
        "arr2d[2]"
      ],
      "execution_count": 0,
      "outputs": []
    },
    {
      "cell_type": "code",
      "metadata": {
        "deletable": true,
        "editable": true,
        "id": "06LGeMeMJZKe",
        "colab_type": "code",
        "colab": {}
      },
      "source": [
        "arr2d[0][2] # 위 아래 두 표현 모두 동일\n",
        "arr2d[0, 2]"
      ],
      "execution_count": 0,
      "outputs": []
    },
    {
      "cell_type": "code",
      "metadata": {
        "deletable": true,
        "editable": true,
        "id": "EZ5gwz45JZKf",
        "colab_type": "code",
        "colab": {}
      },
      "source": [
        "arr3d = np.array([[[1, 2, 3], [4, 5, 6]], [[7, 8, 9], [10, 11, 12]]])\n",
        "arr3d"
      ],
      "execution_count": 0,
      "outputs": []
    },
    {
      "cell_type": "code",
      "metadata": {
        "deletable": true,
        "editable": true,
        "id": "SB8Y2RktJZKg",
        "colab_type": "code",
        "colab": {}
      },
      "source": [
        "arr3d[0] # 스칼라, 배열 모두 대입 가능"
      ],
      "execution_count": 0,
      "outputs": []
    },
    {
      "cell_type": "code",
      "metadata": {
        "deletable": true,
        "editable": true,
        "id": "OofIDEgEJZKi",
        "colab_type": "code",
        "colab": {}
      },
      "source": [
        "old_values = arr3d[0].copy()\n",
        "arr3d[0] = 42\n",
        "arr3d\n",
        "arr3d[0] = old_values\n",
        "arr3d"
      ],
      "execution_count": 0,
      "outputs": []
    },
    {
      "cell_type": "code",
      "metadata": {
        "deletable": true,
        "editable": true,
        "id": "y5zdnlh8JZKk",
        "colab_type": "code",
        "colab": {}
      },
      "source": [
        "arr3d[1, 0]"
      ],
      "execution_count": 0,
      "outputs": []
    },
    {
      "cell_type": "code",
      "metadata": {
        "deletable": true,
        "editable": true,
        "id": "A0NlL9qHJZKm",
        "colab_type": "code",
        "colab": {}
      },
      "source": [
        "x = arr3d[1]\n",
        "x\n",
        "x[0]"
      ],
      "execution_count": 0,
      "outputs": []
    },
    {
      "cell_type": "markdown",
      "metadata": {
        "deletable": true,
        "editable": true,
        "id": "EHQ62bwlJZKo",
        "colab_type": "text"
      },
      "source": [
        "#### Indexing with slices"
      ]
    },
    {
      "cell_type": "code",
      "metadata": {
        "deletable": true,
        "editable": true,
        "id": "tuaXs0AMJZKo",
        "colab_type": "code",
        "colab": {}
      },
      "source": [
        "arr\n",
        "arr[1:6]"
      ],
      "execution_count": 0,
      "outputs": []
    },
    {
      "cell_type": "code",
      "metadata": {
        "deletable": true,
        "editable": true,
        "id": "B7wuIlE4JZKq",
        "colab_type": "code",
        "colab": {}
      },
      "source": [
        "arr2d\n",
        "arr2d[:2]"
      ],
      "execution_count": 0,
      "outputs": []
    },
    {
      "cell_type": "code",
      "metadata": {
        "deletable": true,
        "editable": true,
        "id": "DzroKfj3JZKr",
        "colab_type": "code",
        "colab": {}
      },
      "source": [
        "arr2d[:2, 1:] # 같은 차원의 배열에 대한 뷰 얻게 됨, 정수 색인 + 슬라이스 함께 사용시 한 차원 낮은 슬라이스 얻음"
      ],
      "execution_count": 0,
      "outputs": []
    },
    {
      "cell_type": "code",
      "metadata": {
        "deletable": true,
        "editable": true,
        "id": "3IL_ooXLJZKu",
        "colab_type": "code",
        "colab": {}
      },
      "source": [
        "arr2d[1, :2]"
      ],
      "execution_count": 0,
      "outputs": []
    },
    {
      "cell_type": "code",
      "metadata": {
        "deletable": true,
        "editable": true,
        "id": "7mdHIzJCJZKw",
        "colab_type": "code",
        "colab": {}
      },
      "source": [
        "arr2d[:2, 2]"
      ],
      "execution_count": 0,
      "outputs": []
    },
    {
      "cell_type": "code",
      "metadata": {
        "deletable": true,
        "editable": true,
        "id": "0yv5g6gYJZKx",
        "colab_type": "code",
        "colab": {}
      },
      "source": [
        "arr2d[:, :1]"
      ],
      "execution_count": 0,
      "outputs": []
    },
    {
      "cell_type": "code",
      "metadata": {
        "deletable": true,
        "editable": true,
        "id": "N4c6gjUeJZKz",
        "colab_type": "code",
        "colab": {}
      },
      "source": [
        "arr2d[:2, 1:] = 0\n",
        "arr2d"
      ],
      "execution_count": 0,
      "outputs": []
    },
    {
      "cell_type": "markdown",
      "metadata": {
        "deletable": true,
        "editable": true,
        "id": "9a6iybhBJZK1",
        "colab_type": "text"
      },
      "source": [
        "### 4.1.5 Boolean Indexing"
      ]
    },
    {
      "cell_type": "code",
      "metadata": {
        "deletable": true,
        "editable": true,
        "id": "lu2cyyIxJZK2",
        "colab_type": "code",
        "colab": {}
      },
      "source": [
        "names = np.array(['Bob', 'Joe', 'Will', 'Bob', 'Will', 'Joe', 'Joe'])\n",
        "data = np.random.randn(7, 4)\n",
        "names\n",
        "data"
      ],
      "execution_count": 0,
      "outputs": []
    },
    {
      "cell_type": "code",
      "metadata": {
        "deletable": true,
        "editable": true,
        "id": "s2pY8U_yJZK3",
        "colab_type": "code",
        "colab": {}
      },
      "source": [
        "names == 'Bob'"
      ],
      "execution_count": 0,
      "outputs": []
    },
    {
      "cell_type": "code",
      "metadata": {
        "deletable": true,
        "editable": true,
        "id": "2HTM4yZ6JZK6",
        "colab_type": "code",
        "colab": {}
      },
      "source": [
        "data[names == 'Bob'] # Boolean 배열 배열의 색인 사용 가능"
      ],
      "execution_count": 0,
      "outputs": []
    },
    {
      "cell_type": "code",
      "metadata": {
        "deletable": true,
        "editable": true,
        "id": "_J0ARsDTJZK9",
        "colab_type": "code",
        "colab": {}
      },
      "source": [
        "data[names == 'Bob', 2:] # names == 'Bob' row 2: column 선택\n",
        "data[names == 'Bob', 3]"
      ],
      "execution_count": 0,
      "outputs": []
    },
    {
      "cell_type": "code",
      "metadata": {
        "deletable": true,
        "editable": true,
        "id": "7_BDJ-rvJZLA",
        "colab_type": "code",
        "colab": {}
      },
      "source": [
        "names != 'Bob' # 'Bob'아닌 요소 선택시 !=, ~ 사용\n",
        "data[~(names == 'Bob')]"
      ],
      "execution_count": 0,
      "outputs": []
    },
    {
      "cell_type": "code",
      "metadata": {
        "deletable": true,
        "editable": true,
        "id": "1kacZJv2JZLC",
        "colab_type": "code",
        "colab": {}
      },
      "source": [
        "cond = names == 'Bob'\n",
        "data[~cond]"
      ],
      "execution_count": 0,
      "outputs": []
    },
    {
      "cell_type": "code",
      "metadata": {
        "deletable": true,
        "editable": true,
        "id": "YbE-6u5EJZLF",
        "colab_type": "code",
        "colab": {}
      },
      "source": [
        "mask = (names == 'Bob') | (names == 'Will')\n",
        "mask\n",
        "data[mask]"
      ],
      "execution_count": 0,
      "outputs": []
    },
    {
      "cell_type": "code",
      "metadata": {
        "deletable": true,
        "editable": true,
        "id": "7UwvyClWJZLH",
        "colab_type": "code",
        "colab": {}
      },
      "source": [
        "data[data < 0] = 0\n",
        "data"
      ],
      "execution_count": 0,
      "outputs": []
    },
    {
      "cell_type": "code",
      "metadata": {
        "deletable": true,
        "editable": true,
        "id": "QAnIKeVEJZLJ",
        "colab_type": "code",
        "colab": {}
      },
      "source": [
        "data[names != 'Joe'] = 7\n",
        "data"
      ],
      "execution_count": 0,
      "outputs": []
    },
    {
      "cell_type": "markdown",
      "metadata": {
        "deletable": true,
        "editable": true,
        "id": "rBG7Ei9RJZLK",
        "colab_type": "text"
      },
      "source": [
        "### 4.1.6 Fancy Indexing : 정수 배열 사용한 색인 설명 목적"
      ]
    },
    {
      "cell_type": "code",
      "metadata": {
        "deletable": true,
        "editable": true,
        "id": "03PpZxNyJZLK",
        "colab_type": "code",
        "colab": {}
      },
      "source": [
        "arr = np.empty((8, 4))\n",
        "for i in range(8):\n",
        "    arr[i] = i\n",
        "arr"
      ],
      "execution_count": 0,
      "outputs": []
    },
    {
      "cell_type": "code",
      "metadata": {
        "deletable": true,
        "editable": true,
        "id": "PTdhvjqmJZLO",
        "colab_type": "code",
        "colab": {}
      },
      "source": [
        "arr[[4, 3, 0, 6]]"
      ],
      "execution_count": 0,
      "outputs": []
    },
    {
      "cell_type": "code",
      "metadata": {
        "deletable": true,
        "editable": true,
        "id": "9QieFATeJZLP",
        "colab_type": "code",
        "colab": {}
      },
      "source": [
        "arr[[-3, -5, -7]]"
      ],
      "execution_count": 0,
      "outputs": []
    },
    {
      "cell_type": "code",
      "metadata": {
        "deletable": true,
        "editable": true,
        "id": "C4waQkI5JZLQ",
        "colab_type": "code",
        "colab": {}
      },
      "source": [
        "arr = np.arange(32).reshape((8, 4))\n",
        "arr\n",
        "arr[[1, 5, 7, 2], [0, 3, 1, 2]] # Fancy Indexing 결과 항상 1차원"
      ],
      "execution_count": 0,
      "outputs": []
    },
    {
      "cell_type": "code",
      "metadata": {
        "deletable": true,
        "editable": true,
        "id": "xLmZCbaqJZLR",
        "colab_type": "code",
        "colab": {}
      },
      "source": [
        "arr[[1, 5, 7, 2]][:, [0, 3, 1, 2]] # 선택된 data 새로운 배열로 복사"
      ],
      "execution_count": 0,
      "outputs": []
    },
    {
      "cell_type": "markdown",
      "metadata": {
        "deletable": true,
        "editable": true,
        "id": "MdeUBhr3JZLS",
        "colab_type": "text"
      },
      "source": [
        "### 4.1.7 Transposing Arrays and Swapping Axes"
      ]
    },
    {
      "cell_type": "code",
      "metadata": {
        "deletable": true,
        "editable": true,
        "id": "_3VESBncJZLT",
        "colab_type": "code",
        "colab": {}
      },
      "source": [
        "arr = np.arange(15).reshape((3, 5))\n",
        "arr\n",
        "arr.T"
      ],
      "execution_count": 0,
      "outputs": []
    },
    {
      "cell_type": "code",
      "metadata": {
        "deletable": true,
        "editable": true,
        "id": "DrCqgqATJZLV",
        "colab_type": "code",
        "colab": {}
      },
      "source": [
        "arr = np.random.randn(6, 3)\n",
        "arr\n",
        "np.dot(arr.T, arr) # 행렬내적 : np.dot()"
      ],
      "execution_count": 0,
      "outputs": []
    },
    {
      "cell_type": "code",
      "metadata": {
        "deletable": true,
        "editable": true,
        "id": "NN1LIlMuJZLX",
        "colab_type": "code",
        "colab": {}
      },
      "source": [
        "arr = np.arange(16).reshape((2, 2, 4))\n",
        "arr\n",
        "arr.transpose((1, 0, 2))"
      ],
      "execution_count": 0,
      "outputs": []
    },
    {
      "cell_type": "code",
      "metadata": {
        "deletable": true,
        "editable": true,
        "id": "IyuHeU7BJZLZ",
        "colab_type": "code",
        "colab": {}
      },
      "source": [
        "arr\n",
        "arr.swapaxes(1, 2) # swapaxes() : 배열 뒤바꿈"
      ],
      "execution_count": 0,
      "outputs": []
    },
    {
      "cell_type": "markdown",
      "metadata": {
        "deletable": true,
        "editable": true,
        "id": "ymcg4_wsJZLa",
        "colab_type": "text"
      },
      "source": [
        "## 4.2 Universal Functions: Fast Element-Wise Array Functions"
      ]
    },
    {
      "cell_type": "code",
      "metadata": {
        "deletable": true,
        "editable": true,
        "id": "hNHGxYTPJZLa",
        "colab_type": "code",
        "colab": {}
      },
      "source": [
        "arr = np.arange(10) # 유니버설 함수 : 하나 이상의 스칼라값을 받아 하나 이상의 스칼라 결괏값을 반환하는 함수를 고속으로 수행할 수 있는 벡터화된 래퍼 함수\n",
        "arr\n",
        "np.sqrt(arr)\n",
        "np.exp(arr) # 단항 유니버설 함수 : 1개 인자를 취해 단일 배열 반환"
      ],
      "execution_count": 0,
      "outputs": []
    },
    {
      "cell_type": "code",
      "metadata": {
        "deletable": true,
        "editable": true,
        "id": "6b6Y-VYQJZLc",
        "colab_type": "code",
        "colab": {}
      },
      "source": [
        "x = np.random.randn(8)\n",
        "y = np.random.randn(8)\n",
        "x\n",
        "y\n",
        "np.maximum(x, y) #np.maximum : 원소별로 가장 큰 값 계산"
      ],
      "execution_count": 0,
      "outputs": []
    },
    {
      "cell_type": "code",
      "metadata": {
        "deletable": true,
        "editable": true,
        "id": "8WuqCNrOJZLd",
        "colab_type": "code",
        "colab": {}
      },
      "source": [
        "arr = np.random.randn(7) * 5\n",
        "arr\n",
        "remainder, whole_part = np.modf(arr) # modf() : 분수를 받아서 몫과 나머지 함께 반환\n",
        "remainder\n",
        "whole_part"
      ],
      "execution_count": 0,
      "outputs": []
    },
    {
      "cell_type": "code",
      "metadata": {
        "deletable": true,
        "editable": true,
        "id": "KCwrZHRQJZLe",
        "colab_type": "code",
        "colab": {}
      },
      "source": [
        "arr #유니버설 함수는 선택적으로 out 인자를 취해 계산 결과를 따로 저장 가능\n",
        "np.sqrt(arr)\n",
        "np.sqrt(arr, arr)\n",
        "arr\n",
        "\n",
        "# 단항,이항 유니버설 함수 https://m.blog.naver.com/PostView.nhn?blogId=wpdls6012&logNo=220788184462&proxyReferer=https%3A%2F%2Fwww.google.com%2F"
      ],
      "execution_count": 0,
      "outputs": []
    },
    {
      "cell_type": "markdown",
      "metadata": {
        "deletable": true,
        "editable": true,
        "id": "pjdomnuiJZLf",
        "colab_type": "text"
      },
      "source": [
        "## 4.3 Array-Oriented Programming with Arrays"
      ]
    },
    {
      "cell_type": "code",
      "metadata": {
        "deletable": true,
        "editable": true,
        "id": "mgW8_xjWJZLf",
        "colab_type": "code",
        "colab": {}
      },
      "source": [
        "points = np.arange(-5, 5, 0.01) # 1000 equally spaced points, 벡터화: 배열 연산을 사용, 반복문을 명시적 제거\n",
        "xs, ys = np.meshgrid(points, points) # np.meshgrid: 두개의 1차원 배열을 받아 가능한 모든 (x, y)짝 2차원 배열 2개 반환\n",
        "ys"
      ],
      "execution_count": 0,
      "outputs": []
    },
    {
      "cell_type": "code",
      "metadata": {
        "deletable": true,
        "editable": true,
        "id": "_3ryc3DBJZLg",
        "colab_type": "code",
        "colab": {}
      },
      "source": [
        "z = np.sqrt(xs ** 2 + ys ** 2) # 그리드 상의 두 포인트로 간단하게 계산 적용\n",
        "z"
      ],
      "execution_count": 0,
      "outputs": []
    },
    {
      "cell_type": "code",
      "metadata": {
        "deletable": true,
        "editable": true,
        "id": "VtBNYhjpJZLh",
        "colab_type": "code",
        "colab": {}
      },
      "source": [
        "import matplotlib.pyplot as plt # matplotlib 이용하여 2차원 배열 시각화\n",
        "plt.imshow(z, cmap=plt.cm.gray); plt.colorbar()\n",
        "plt.title(\"Image plot of $\\sqrt{x^2 + y^2}$ for a grid of values\")"
      ],
      "execution_count": 0,
      "outputs": []
    },
    {
      "cell_type": "code",
      "metadata": {
        "deletable": true,
        "editable": true,
        "id": "25BYFMxdJZLj",
        "colab_type": "code",
        "colab": {}
      },
      "source": [
        "plt.draw()"
      ],
      "execution_count": 0,
      "outputs": []
    },
    {
      "cell_type": "code",
      "metadata": {
        "deletable": true,
        "editable": true,
        "id": "1tEuT1ufJZLk",
        "colab_type": "code",
        "colab": {}
      },
      "source": [
        "plt.close('all')"
      ],
      "execution_count": 0,
      "outputs": []
    },
    {
      "cell_type": "markdown",
      "metadata": {
        "deletable": true,
        "editable": true,
        "id": "HYmuvUdyJZLl",
        "colab_type": "text"
      },
      "source": [
        "### 4.3.1 Expressing Conditional Logic as Array Operations"
      ]
    },
    {
      "cell_type": "code",
      "metadata": {
        "deletable": true,
        "editable": true,
        "id": "OBle4szDJZLl",
        "colab_type": "code",
        "colab": {}
      },
      "source": [
        "xarr = np.array([1.1, 1.2, 1.3, 1.4, 1.5])\n",
        "yarr = np.array([2.1, 2.2, 2.3, 2.4, 2.5])\n",
        "cond = np.array([True, False, True, True, False])"
      ],
      "execution_count": 0,
      "outputs": []
    },
    {
      "cell_type": "code",
      "metadata": {
        "deletable": true,
        "editable": true,
        "id": "qq7mz-EFJZLm",
        "colab_type": "code",
        "colab": {}
      },
      "source": [
        "result = [(x if c else y) # list comprehension문제점 : 큰 배열 빠르게 처리 X, 다차원 배열 사용 X\n",
        "          for x, y, c in zip(xarr, yarr, cond)]\n",
        "result"
      ],
      "execution_count": 0,
      "outputs": []
    },
    {
      "cell_type": "code",
      "metadata": {
        "deletable": true,
        "editable": true,
        "id": "qawnOWl_JZLn",
        "colab_type": "code",
        "colab": {}
      },
      "source": [
        "result = np.where(cond, xarr, yarr) # numpy.where : 삼항식의 벡터화(x if 조건 else y), np.where의 2,3 번째 인자 배열 X 상관 X\n",
        "result                              # where : 다른 배열에 기반한 새로운 배열 생성"
      ],
      "execution_count": 0,
      "outputs": []
    },
    {
      "cell_type": "code",
      "metadata": {
        "deletable": true,
        "editable": true,
        "id": "cBSqNEv_JZLo",
        "colab_type": "code",
        "colab": {}
      },
      "source": [
        "arr = np.random.randn(4, 4)\n",
        "arr\n",
        "arr > 0\n",
        "np.where(arr > 0, 2, -2)"
      ],
      "execution_count": 0,
      "outputs": []
    },
    {
      "cell_type": "code",
      "metadata": {
        "deletable": true,
        "editable": true,
        "id": "PIF5_ZTrJZLp",
        "colab_type": "code",
        "colab": {}
      },
      "source": [
        "np.where(arr > 0, 2, arr) # set only positive values to 2"
      ],
      "execution_count": 0,
      "outputs": []
    },
    {
      "cell_type": "markdown",
      "metadata": {
        "deletable": true,
        "editable": true,
        "id": "SUmVllaUJZLs",
        "colab_type": "text"
      },
      "source": [
        "### 4.3.2 Mathematical and Statistical Methods \n",
        "#### 수학함수 : 배열 메서드 사용가능"
      ]
    },
    {
      "cell_type": "code",
      "metadata": {
        "deletable": true,
        "editable": true,
        "id": "okVz47CzJZLt",
        "colab_type": "code",
        "colab": {}
      },
      "source": [
        "arr = np.random.randn(5, 4) # 임의의 정규 분포 데이터 생성 및 집계\n",
        "arr\n",
        "arr.mean()\n",
        "np.mean(arr)\n",
        "arr.sum()"
      ],
      "execution_count": 0,
      "outputs": []
    },
    {
      "cell_type": "code",
      "metadata": {
        "deletable": true,
        "editable": true,
        "id": "0CoWPWWDJZLu",
        "colab_type": "code",
        "colab": {}
      },
      "source": [
        "arr.mean(axis=1) # mean, sum : 선택적 axis인자 받아서 axis 통계 계산 및 한 차수 낮은 배열 반환\n",
        "arr.sum(axis=0)"
      ],
      "execution_count": 0,
      "outputs": []
    },
    {
      "cell_type": "code",
      "metadata": {
        "deletable": true,
        "editable": true,
        "id": "-Vqq7djvJZLu",
        "colab_type": "code",
        "colab": {}
      },
      "source": [
        "arr = np.array([0, 1, 2, 3, 4, 5, 6, 7]) # cumsum : 누적함수\n",
        "arr.cumsum()"
      ],
      "execution_count": 0,
      "outputs": []
    },
    {
      "cell_type": "code",
      "metadata": {
        "deletable": true,
        "editable": true,
        "id": "C5w9jw84JZLv",
        "colab_type": "code",
        "colab": {}
      },
      "source": [
        "arr = np.array([[0, 1, 2], [3, 4, 5], [6, 7, 8]])\n",
        "arr\n",
        "arr.cumsum(axis=0)\n",
        "arr.cumprod(axis=1) # cumprod : 누적곱 함수"
      ],
      "execution_count": 0,
      "outputs": []
    },
    {
      "cell_type": "markdown",
      "metadata": {
        "deletable": true,
        "editable": true,
        "id": "fe8Ge8VXJZLw",
        "colab_type": "text"
      },
      "source": [
        "### 4.3.3 Methods for Boolean Arrays"
      ]
    },
    {
      "cell_type": "code",
      "metadata": {
        "deletable": true,
        "editable": true,
        "id": "v0OgbH3ZJZLx",
        "colab_type": "code",
        "colab": {}
      },
      "source": [
        "arr = np.random.randn(100)\n",
        "(arr > 0).sum() # Number of positive values"
      ],
      "execution_count": 0,
      "outputs": []
    },
    {
      "cell_type": "code",
      "metadata": {
        "deletable": true,
        "editable": true,
        "id": "-nzo58_GJZLy",
        "colab_type": "code",
        "colab": {}
      },
      "source": [
        "bools = np.array([False, False, True, False])\n",
        "bools.any()\n",
        "bools.all()"
      ],
      "execution_count": 0,
      "outputs": []
    },
    {
      "cell_type": "markdown",
      "metadata": {
        "deletable": true,
        "editable": true,
        "id": "STth3lTlJZLz",
        "colab_type": "text"
      },
      "source": [
        "### 4.3.4 Sorting"
      ]
    },
    {
      "cell_type": "code",
      "metadata": {
        "deletable": true,
        "editable": true,
        "id": "e8iufGr9JZL0",
        "colab_type": "code",
        "colab": {}
      },
      "source": [
        "arr = np.random.randn(6)\n",
        "arr\n",
        "arr.sort()\n",
        "arr"
      ],
      "execution_count": 0,
      "outputs": []
    },
    {
      "cell_type": "code",
      "metadata": {
        "deletable": true,
        "editable": true,
        "id": "ePkefFhqJZL2",
        "colab_type": "code",
        "colab": {}
      },
      "source": [
        "arr = np.random.randn(5, 3)\n",
        "arr\n",
        "arr.sort(1)\n",
        "arr"
      ],
      "execution_count": 0,
      "outputs": []
    },
    {
      "cell_type": "code",
      "metadata": {
        "deletable": true,
        "editable": true,
        "id": "MCMklytEJZL3",
        "colab_type": "code",
        "colab": {}
      },
      "source": [
        "large_arr = np.random.randn(1000)\n",
        "large_arr.sort()\n",
        "large_arr[int(0.05 * len(large_arr))] # 5% quantile"
      ],
      "execution_count": 0,
      "outputs": []
    },
    {
      "cell_type": "markdown",
      "metadata": {
        "deletable": true,
        "editable": true,
        "id": "us6Dzoj7JZL4",
        "colab_type": "text"
      },
      "source": [
        "### 4.3.5 Unique and Other Set Logic"
      ]
    },
    {
      "cell_type": "code",
      "metadata": {
        "deletable": true,
        "editable": true,
        "id": "zfRlA0QJJZL5",
        "colab_type": "code",
        "colab": {}
      },
      "source": [
        "names = np.array(['Bob', 'Joe', 'Will', 'Bob', 'Will', 'Joe', 'Joe'])\n",
        "np.unique(names) # np.unique : 배열 내 중복된 원소 제거 및 남은 원소 정렬 형태로 반환\n",
        "ints = np.array([3, 3, 3, 2, 2, 1, 1, 4, 4])\n",
        "np.unique(ints)"
      ],
      "execution_count": 0,
      "outputs": []
    },
    {
      "cell_type": "code",
      "metadata": {
        "deletable": true,
        "editable": true,
        "id": "8tWDxUNLJZL5",
        "colab_type": "code",
        "colab": {}
      },
      "source": [
        "sorted(set(names))"
      ],
      "execution_count": 0,
      "outputs": []
    },
    {
      "cell_type": "code",
      "metadata": {
        "deletable": true,
        "editable": true,
        "id": "h_xw39V-JZL7",
        "colab_type": "code",
        "colab": {}
      },
      "source": [
        "values = np.array([6, 0, 0, 3, 2, 5, 6])\n",
        "np.in1d(values, [2, 3, 6]) # np.in1d : 두 개의 배열 인자로 받아, 첫 번째 배열의 원소가 두 번째 배열의 원소를 포함하는지 나타내는 불리언 배열"
      ],
      "execution_count": 0,
      "outputs": []
    },
    {
      "cell_type": "markdown",
      "metadata": {
        "id": "OOtPkArBgD0I",
        "colab_type": "text"
      },
      "source": [
        "#### unique(x) : 중복 원소 제거 후 반환\n",
        "#### intersect1d(x, y) : 공통 원소 반환\n",
        "#### union1d(x, y) : 합집합 반환\n",
        "#### in1d(x, y) : x의 원소가 y의 원소에 포함되는지 불리언 반환\n",
        "#### setdiff1d(x, y) : x와y의 차집합 반환\n",
        "#### setxor1d(x, y) : 대칭차집합 반환"
      ]
    },
    {
      "cell_type": "markdown",
      "metadata": {
        "deletable": true,
        "editable": true,
        "id": "wZ9czmTJJZL8",
        "colab_type": "text"
      },
      "source": [
        "## 4.4 File Input and Output with Arrays"
      ]
    },
    {
      "cell_type": "markdown",
      "metadata": {
        "id": "hIibJmLLMEiB",
        "colab_type": "text"
      },
      "source": [
        "### Numpy : text, binary load, save 가능\n",
        "### np.save, np.load : matrix data save, load 가능, .npy파일로 저장"
      ]
    },
    {
      "cell_type": "code",
      "metadata": {
        "deletable": true,
        "editable": true,
        "id": "sMI3NznlJZL9",
        "colab_type": "code",
        "colab": {}
      },
      "source": [
        "arr = np.arange(10)\n",
        "np.save('some_array', arr)\n",
        "\n"
      ],
      "execution_count": 0,
      "outputs": []
    },
    {
      "cell_type": "code",
      "metadata": {
        "deletable": true,
        "editable": true,
        "id": "8o9b3TadJZL-",
        "colab_type": "code",
        "colab": {}
      },
      "source": [
        "np.load('some_array.npy')"
      ],
      "execution_count": 0,
      "outputs": []
    },
    {
      "cell_type": "code",
      "metadata": {
        "deletable": true,
        "editable": true,
        "id": "oZJM_7RHJZL_",
        "colab_type": "code",
        "colab": {}
      },
      "source": [
        "np.savez('array_archive.npz', a=arr, b=arr) # np.savez : 여러 개의 배열 압축 형식으로 저장"
      ],
      "execution_count": 0,
      "outputs": []
    },
    {
      "cell_type": "code",
      "metadata": {
        "deletable": true,
        "editable": true,
        "id": "87c8FswkJZMB",
        "colab_type": "code",
        "colab": {}
      },
      "source": [
        "arch = np.load('array_archive.npz') # npz파일 불러올 때는 '사전 형식의 객체'에 저장\n",
        "arch['b']"
      ],
      "execution_count": 0,
      "outputs": []
    },
    {
      "cell_type": "code",
      "metadata": {
        "deletable": true,
        "editable": true,
        "id": "oZEE2zqXJZMF",
        "colab_type": "code",
        "colab": {}
      },
      "source": [
        "np.savez_compressed('arrays_compressed.npz', a=arr, b=arr) # 압축이 잘되는 data : numpy.savez_compressed 이용."
      ],
      "execution_count": 0,
      "outputs": []
    },
    {
      "cell_type": "code",
      "metadata": {
        "deletable": true,
        "editable": true,
        "id": "ECRu9fcHJZMG",
        "colab_type": "code",
        "colab": {}
      },
      "source": [
        "!rm some_array.npy\n",
        "!rm array_archive.npz\n",
        "!rm arrays_compressed.npz"
      ],
      "execution_count": 0,
      "outputs": []
    },
    {
      "cell_type": "markdown",
      "metadata": {
        "deletable": true,
        "editable": true,
        "id": "JQzjS3WyJZMI",
        "colab_type": "text"
      },
      "source": [
        "## 4.5 Linear Algebra"
      ]
    },
    {
      "cell_type": "code",
      "metadata": {
        "deletable": true,
        "editable": true,
        "id": "BiwAL-CCJZMI",
        "colab_type": "code",
        "colab": {}
      },
      "source": [
        "x = np.array([[1., 2., 3.], [4., 5., 6.]])\n",
        "y = np.array([[6., 23.], [-1, 7], [8, 9]])\n",
        "x\n",
        "y\n",
        "x.dot(y) # 행렬곱 dot함수 이용"
      ],
      "execution_count": 0,
      "outputs": []
    },
    {
      "cell_type": "code",
      "metadata": {
        "deletable": true,
        "editable": true,
        "id": "uT1emZNXJZMK",
        "colab_type": "code",
        "colab": {}
      },
      "source": [
        "np.dot(x, y) # x.dot(y) = np.dot(x,y)"
      ],
      "execution_count": 0,
      "outputs": []
    },
    {
      "cell_type": "code",
      "metadata": {
        "deletable": true,
        "editable": true,
        "id": "8B83lZVPJZML",
        "colab_type": "code",
        "colab": {}
      },
      "source": [
        "np.dot(x, np.ones(3))"
      ],
      "execution_count": 0,
      "outputs": []
    },
    {
      "cell_type": "code",
      "metadata": {
        "deletable": true,
        "editable": true,
        "id": "d_iRgmQEJZMM",
        "colab_type": "code",
        "colab": {}
      },
      "source": [
        "x @ np.ones(3) # @ : 행렬 곱셈 연산자"
      ],
      "execution_count": 0,
      "outputs": []
    },
    {
      "cell_type": "code",
      "metadata": {
        "deletable": true,
        "editable": true,
        "id": "NsM2clwqJZMP",
        "colab_type": "code",
        "colab": {}
      },
      "source": [
        "from numpy.linalg import inv, qr # numpy.linalg : 행렬의 분할, 역행렬, 행렬식 포함\n",
        "X = np.random.randn(5, 5)\n",
        "mat = X.T.dot(X)\n",
        "inv(mat)\n",
        "mat.dot(inv(mat))\n",
        "q, r = qr(mat)\n",
        "r"
      ],
      "execution_count": 0,
      "outputs": []
    },
    {
      "cell_type": "markdown",
      "metadata": {
        "id": "Y7OkrLU7Ynp3",
        "colab_type": "text"
      },
      "source": [
        "### p173 맨 밑에서 X.T -> X 로 오타 수정 "
      ]
    },
    {
      "cell_type": "markdown",
      "metadata": {
        "id": "O6ogEP-yObgf",
        "colab_type": "text"
      },
      "source": [
        "### diag : 단위행렬 반환\n",
        "### dot : 행렬 곱\n",
        "### trace : 대각원소 합\n",
        "### det : 행렬식\n",
        "### eig : 고유값, 고유벡터 계산\n",
        "### inv : 역행렬 계산\n",
        "### pinv : 무어-펜로즈 유사역원 역행렬 구함\n",
        "### qr : qr분해 계산\n",
        "### svd : 특잇값 분해(SVD)계산\n",
        "### solve : Ax = b 만족하는 x 구함 \n",
        "### lstsq : Ax = b 만족하는 최소제곱해 구함"
      ]
    },
    {
      "cell_type": "markdown",
      "metadata": {
        "deletable": true,
        "editable": true,
        "id": "xi00YuDNJZMQ",
        "colab_type": "text"
      },
      "source": [
        "## 4.6 Pseudorandom Number Generation"
      ]
    },
    {
      "cell_type": "code",
      "metadata": {
        "deletable": true,
        "editable": true,
        "id": "VDsMYquAJZMQ",
        "colab_type": "code",
        "colab": {}
      },
      "source": [
        "samples = np.random.normal(size=(4, 4)) # numpy.random : 매우 큰 표본 생성시 사용\n",
        "samples"
      ],
      "execution_count": 0,
      "outputs": []
    },
    {
      "cell_type": "code",
      "metadata": {
        "deletable": true,
        "editable": true,
        "id": "5R4g9YfcJZMR",
        "colab_type": "code",
        "colab": {}
      },
      "source": [
        "from random import normalvariate # 유사난수 생성 : 겉보기에는 난수 같지만 사실은 법칙이 정해져 있음\n",
        "N = 1000000\n",
        "%timeit samples = [normalvariate(0, 1) for _ in range(N)]\n",
        "%timeit np.random.normal(size=N)"
      ],
      "execution_count": 0,
      "outputs": []
    },
    {
      "cell_type": "code",
      "metadata": {
        "deletable": true,
        "editable": true,
        "id": "lQPcl0mYJZMR",
        "colab_type": "code",
        "colab": {}
      },
      "source": [
        "np.random.seed(1234) # 시드값 조절"
      ],
      "execution_count": 0,
      "outputs": []
    },
    {
      "cell_type": "code",
      "metadata": {
        "deletable": true,
        "editable": true,
        "id": "YBzD0AWRJZMS",
        "colab_type": "code",
        "colab": {}
      },
      "source": [
        "rng = np.random.RandomState(1234) # 격리된 난수 생성기\n",
        "rng.randn(10)"
      ],
      "execution_count": 0,
      "outputs": []
    },
    {
      "cell_type": "markdown",
      "metadata": {
        "id": "H5HFxJfwdDkj",
        "colab_type": "text"
      },
      "source": [
        "## numpy.random 함수 일부 \n",
        "\n",
        "1.   seed : 시드 지정\n",
        "2.   permutation : 순서를 임의로 바꾸거나 임의의 순열 반환\n",
        "3.   shuffle : list or array 순서 뒤섞음\n",
        "4.   rand : 균등분포에서 표본 추출\n",
        "5.   randint : 주어진 범위에서 임의의 난수 추출\n",
        "6.   randn : 정규분포에서 표본 추출 \n",
        "7.   binomial : 이항분포에서 표본 추출 \n",
        "8.   normal : 정규분포에서 표본 추출 \n",
        "9.   beta : 베타분포에서 표본 추출 \n",
        "10.  chisquare : 카이제곱분포에서 표본 추출 \n",
        "11.  gamma : 감마 분포에서 표본 추출 \n",
        "12.  uniform : 균등 분포에서 표본 추추 \n",
        "\n"
      ]
    },
    {
      "cell_type": "markdown",
      "metadata": {
        "deletable": true,
        "editable": true,
        "id": "iYUFxhzaJZMT",
        "colab_type": "text"
      },
      "source": [
        "## 4.7 Example: Random Walks"
      ]
    },
    {
      "cell_type": "code",
      "metadata": {
        "deletable": true,
        "editable": true,
        "id": "WuT-0ZboJZMT",
        "colab_type": "code",
        "colab": {}
      },
      "source": [
        "import random # 순수 python으로 내장 random module 사용\n",
        "position = 0\n",
        "walk = [position]\n",
        "steps = 1000\n",
        "for i in range(steps):\n",
        "    step = 1 if random.randint(0, 1) else -1\n",
        "    position += step\n",
        "    walk.append(position)"
      ],
      "execution_count": 0,
      "outputs": []
    },
    {
      "cell_type": "code",
      "metadata": {
        "deletable": true,
        "editable": true,
        "id": "ZB5Ga6DZJZMU",
        "colab_type": "code",
        "colab": {}
      },
      "source": [
        "plt.figure()"
      ],
      "execution_count": 0,
      "outputs": []
    },
    {
      "cell_type": "code",
      "metadata": {
        "deletable": true,
        "editable": true,
        "id": "d4edLbVbJZMV",
        "colab_type": "code",
        "colab": {}
      },
      "source": [
        "plt.plot(walk[:100]) # 처음 100회의 계단 오르내리기 그래프로 그림"
      ],
      "execution_count": 0,
      "outputs": []
    },
    {
      "cell_type": "code",
      "metadata": {
        "deletable": true,
        "editable": true,
        "id": "vSMOml9HJZMW",
        "colab_type": "code",
        "colab": {}
      },
      "source": [
        "np.random.seed(12345)"
      ],
      "execution_count": 0,
      "outputs": []
    },
    {
      "cell_type": "code",
      "metadata": {
        "deletable": true,
        "editable": true,
        "id": "ZjNNZB1FJZMW",
        "colab_type": "code",
        "colab": {}
      },
      "source": [
        "nsteps = 1000\n",
        "draws = np.random.randint(0, 2, size=nsteps)\n",
        "steps = np.where(draws > 0, 1, -1)\n",
        "walk = steps.cumsum()"
      ],
      "execution_count": 0,
      "outputs": []
    },
    {
      "cell_type": "code",
      "metadata": {
        "deletable": true,
        "editable": true,
        "id": "sL6WSl2XJZMY",
        "colab_type": "code",
        "colab": {}
      },
      "source": [
        "walk.min()\n",
        "walk.max()"
      ],
      "execution_count": 0,
      "outputs": []
    },
    {
      "cell_type": "code",
      "metadata": {
        "deletable": true,
        "editable": true,
        "id": "IbNEJr42JZMZ",
        "colab_type": "code",
        "colab": {}
      },
      "source": [
        "(np.abs(walk) >= 10).argmax() # 'np.abs(walk) >= 10' : boolean 반환 -> argmax : boolean array에서 최댓값의 처음 색인 반환"
      ],
      "execution_count": 0,
      "outputs": []
    },
    {
      "cell_type": "markdown",
      "metadata": {
        "deletable": true,
        "editable": true,
        "id": "gbWOxM4HJZMZ",
        "colab_type": "text"
      },
      "source": [
        "### 4.7.1 Simulating Many Random Walks at Once"
      ]
    },
    {
      "cell_type": "code",
      "metadata": {
        "deletable": true,
        "editable": true,
        "id": "j2L3JfPrJZMa",
        "colab_type": "code",
        "colab": {}
      },
      "source": [
        "nwalks = 5000\n",
        "nsteps = 1000\n",
        "draws = np.random.randint(0, 2, size=(nwalks, nsteps)) # 0 or 1\n",
        "steps = np.where(draws > 0, 1, -1)\n",
        "walks = steps.cumsum(1)\n",
        "walks"
      ],
      "execution_count": 0,
      "outputs": []
    },
    {
      "cell_type": "code",
      "metadata": {
        "deletable": true,
        "editable": true,
        "id": "_td-P7TwJZMa",
        "colab_type": "code",
        "colab": {}
      },
      "source": [
        "walks.max()\n",
        "walks.min()"
      ],
      "execution_count": 0,
      "outputs": []
    },
    {
      "cell_type": "code",
      "metadata": {
        "deletable": true,
        "editable": true,
        "id": "qrHt1ax-JZMb",
        "colab_type": "code",
        "colab": {}
      },
      "source": [
        "hits30 = (np.abs(walks) >= 30).any(1) # 모든 경우가 30에 도달 하지 않는 경우떄문에 any() 사용 : True 1개라도 있으면 True return\n",
        "hits30\n",
        "hits30.sum() # Number that hit 30 or -30"
      ],
      "execution_count": 0,
      "outputs": []
    },
    {
      "cell_type": "code",
      "metadata": {
        "deletable": true,
        "editable": true,
        "id": "FBhCn5SNJZMb",
        "colab_type": "code",
        "colab": {}
      },
      "source": [
        "crossing_times = (np.abs(walks[hits30]) >= 30).argmax(1) # 축 1의 argmax : 30칸 이상 멀어지는 최소 횟수 \n",
        "crossing_times.mean()"
      ],
      "execution_count": 0,
      "outputs": []
    },
    {
      "cell_type": "code",
      "metadata": {
        "deletable": true,
        "editable": true,
        "id": "lDfPWbWnJZMc",
        "colab_type": "code",
        "colab": {}
      },
      "source": [
        "steps = np.random.normal(loc=0, scale=0.25,\n",
        "                         size=(nwalks, nsteps))"
      ],
      "execution_count": 0,
      "outputs": []
    },
    {
      "cell_type": "markdown",
      "metadata": {
        "deletable": true,
        "editable": true,
        "id": "BtmaX7b5JZMd",
        "colab_type": "text"
      },
      "source": [
        "## Conclusion"
      ]
    }
  ]
}
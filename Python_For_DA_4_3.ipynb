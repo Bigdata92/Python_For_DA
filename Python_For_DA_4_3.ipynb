{
  "nbformat": 4,
  "nbformat_minor": 0,
  "metadata": {
    "colab": {
      "name": "Python_For_DA_4.3.ipynb",
      "version": "0.3.2",
      "provenance": [],
      "collapsed_sections": [],
      "include_colab_link": true
    },
    "kernelspec": {
      "name": "python3",
      "display_name": "Python 3"
    }
  },
  "cells": [
    {
      "cell_type": "markdown",
      "metadata": {
        "id": "view-in-github",
        "colab_type": "text"
      },
      "source": [
        "<a href=\"https://colab.research.google.com/github/Bigdata92/Python_For_DA/blob/master/Python_For_DA_4_3.ipynb\" target=\"_parent\"><img src=\"https://colab.research.google.com/assets/colab-badge.svg\" alt=\"Open In Colab\"/></a>"
      ]
    },
    {
      "cell_type": "markdown",
      "metadata": {
        "id": "R0_73itNFiS9",
        "colab_type": "text"
      },
      "source": [
        "# 4.3 배열을 이용한 배열지향 프로그래밍\n",
        "\n",
        "### 벡터화: 배열 연산을 사용, 반복문을 명시적 제거\n"
      ]
    },
    {
      "cell_type": "markdown",
      "metadata": {
        "id": "wJTZDIK8HZcH",
        "colab_type": "text"
      },
      "source": [
        "### np.meshgrid: 두개의 1차원 배열을 받아 가능한 모든 (x, y)짝 2차원 배열 2개 반환"
      ]
    },
    {
      "cell_type": "code",
      "metadata": {
        "id": "vnj3fJP5GLjL",
        "colab_type": "code",
        "colab": {
          "base_uri": "https://localhost:8080/",
          "height": 148
        },
        "outputId": "f2d3a7bc-1724-4143-9b6c-422dde665f37"
      },
      "source": [
        "import numpy as np\n",
        "\n",
        "points = np.arange(-5, 5, 0.01)\n",
        "\n",
        "xs, ys = np.meshgrid(points, points)\n",
        "\n",
        "ys"
      ],
      "execution_count": 2,
      "outputs": [
        {
          "output_type": "execute_result",
          "data": {
            "text/plain": [
              "array([[-5.  , -5.  , -5.  , ..., -5.  , -5.  , -5.  ],\n",
              "       [-4.99, -4.99, -4.99, ..., -4.99, -4.99, -4.99],\n",
              "       [-4.98, -4.98, -4.98, ..., -4.98, -4.98, -4.98],\n",
              "       ...,\n",
              "       [ 4.97,  4.97,  4.97, ...,  4.97,  4.97,  4.97],\n",
              "       [ 4.98,  4.98,  4.98, ...,  4.98,  4.98,  4.98],\n",
              "       [ 4.99,  4.99,  4.99, ...,  4.99,  4.99,  4.99]])"
            ]
          },
          "metadata": {
            "tags": []
          },
          "execution_count": 2
        }
      ]
    },
    {
      "cell_type": "markdown",
      "metadata": {
        "id": "hRQ79zuAH_Ig",
        "colab_type": "text"
      },
      "source": [
        "###  그리드 상의 두 포인트로 간단하게 계산 적용\n",
        "\n",
        "\n"
      ]
    },
    {
      "cell_type": "code",
      "metadata": {
        "id": "2colbArMGuKT",
        "colab_type": "code",
        "colab": {
          "base_uri": "https://localhost:8080/",
          "height": 260
        },
        "outputId": "9a360469-3961-4f88-a4c1-439b9c1fd955"
      },
      "source": [
        "z = np.sqrt(xs ** 2 + ys ** 2)\n",
        "\n",
        "z"
      ],
      "execution_count": 3,
      "outputs": [
        {
          "output_type": "execute_result",
          "data": {
            "text/plain": [
              "array([[7.07106781, 7.06400028, 7.05693985, ..., 7.04988652, 7.05693985,\n",
              "        7.06400028],\n",
              "       [7.06400028, 7.05692568, 7.04985815, ..., 7.04279774, 7.04985815,\n",
              "        7.05692568],\n",
              "       [7.05693985, 7.04985815, 7.04278354, ..., 7.03571603, 7.04278354,\n",
              "        7.04985815],\n",
              "       ...,\n",
              "       [7.04988652, 7.04279774, 7.03571603, ..., 7.0286414 , 7.03571603,\n",
              "        7.04279774],\n",
              "       [7.05693985, 7.04985815, 7.04278354, ..., 7.03571603, 7.04278354,\n",
              "        7.04985815],\n",
              "       [7.06400028, 7.05692568, 7.04985815, ..., 7.04279774, 7.04985815,\n",
              "        7.05692568]])"
            ]
          },
          "metadata": {
            "tags": []
          },
          "execution_count": 3
        }
      ]
    },
    {
      "cell_type": "markdown",
      "metadata": {
        "id": "cZmEUdycIPCe",
        "colab_type": "text"
      },
      "source": [
        "### matplotlib 이용하여 2차원 배열 시각화"
      ]
    },
    {
      "cell_type": "code",
      "metadata": {
        "id": "GCn2fPZtH-al",
        "colab_type": "code",
        "colab": {
          "base_uri": "https://localhost:8080/",
          "height": 307
        },
        "outputId": "5b557171-017e-4eb9-e100-8d495d7f87da"
      },
      "source": [
        "import matplotlib.pyplot as plt \n",
        "\n",
        "plt.imshow(z, cmap = plt.cm.gray);\n",
        "\n",
        "plt.colorbar()\n",
        "\n",
        "plt.title(\"Image plot of $\\sqrt{x^2 + y^2}$ for a gird of values\")"
      ],
      "execution_count": 5,
      "outputs": [
        {
          "output_type": "execute_result",
          "data": {
            "text/plain": [
              "Text(0.5, 1.0, 'Image plot of $\\\\sqrt{x^2 + y^2}$ for a gird of values')"
            ]
          },
          "metadata": {
            "tags": []
          },
          "execution_count": 5
        },
        {
          "output_type": "display_data",
          "data": {
            "image/png": "[encoded data removed]",
            "text/plain": [
              "<Figure size 432x288 with 2 Axes>"
            ]
          },
          "metadata": {
            "tags": []
          }
        }
      ]
    },
    {
      "cell_type": "markdown",
      "metadata": {
        "id": "QB1PkjruI9CA",
        "colab_type": "text"
      },
      "source": [
        "# 4.3.1 배열 연산으로 조건절 표현 \n",
        "### numpy.where : 삼항식의 벡터화(x if 조건 else y)\n"
      ]
    },
    {
      "cell_type": "code",
      "metadata": {
        "id": "bPWMOQ6CIgqZ",
        "colab_type": "code",
        "colab": {}
      },
      "source": [
        "xarr = np.array([1.1, 1.2, 1.3, 1.4, 1.5])\n",
        "\n",
        "yarr = np.array([2.1, 2.2, 2.3, 2.4, 2.5])\n",
        "\n",
        "cond = np.array([True, False, True, True, False])"
      ],
      "execution_count": 0,
      "outputs": []
    },
    {
      "cell_type": "code",
      "metadata": {
        "id": "mZw7bM-hKnxA",
        "colab_type": "code",
        "colab": {
          "base_uri": "https://localhost:8080/",
          "height": 36
        },
        "outputId": "f1225b7e-9f20-4b4e-a189-4731ea750eaa"
      },
      "source": [
        "result = [(x if c else y) for x, y, c in zip(xarr, yarr, cond)]\n",
        "\n",
        "result"
      ],
      "execution_count": 13,
      "outputs": [
        {
          "output_type": "execute_result",
          "data": {
            "text/plain": [
              "[1.1, 2.2, 1.3, 1.4, 2.5]"
            ]
          },
          "metadata": {
            "tags": []
          },
          "execution_count": 13
        }
      ]
    },
    {
      "cell_type": "markdown",
      "metadata": {
        "id": "I3LVWXkALrK9",
        "colab_type": "text"
      },
      "source": [
        "### list comprehension문제점 \n",
        "### \n",
        "\n",
        "1.   큰 배열 빠르게 처리 X\n",
        "2.   다차원 배열 사용 X\n",
        "\n"
      ]
    },
    {
      "cell_type": "code",
      "metadata": {
        "id": "OBzMcQwZK11s",
        "colab_type": "code",
        "colab": {
          "base_uri": "https://localhost:8080/",
          "height": 36
        },
        "outputId": "debaddb6-6409-41c8-8403-36509405ed76"
      },
      "source": [
        "result = np.where(cond, xarr, yarr)\n",
        "\n",
        "result"
      ],
      "execution_count": 14,
      "outputs": [
        {
          "output_type": "execute_result",
          "data": {
            "text/plain": [
              "array([1.1, 2.2, 1.3, 1.4, 2.5])"
            ]
          },
          "metadata": {
            "tags": []
          },
          "execution_count": 14
        }
      ]
    },
    {
      "cell_type": "markdown",
      "metadata": {
        "id": "vC0tZMTDMOUs",
        "colab_type": "text"
      },
      "source": [
        "### np.where의 2,3 번째 인자 배열 X 상관 X\n",
        "### where : 다른 배열에 기반한 새로운 배열 생성"
      ]
    },
    {
      "cell_type": "code",
      "metadata": {
        "id": "0rf6LX_mLpce",
        "colab_type": "code",
        "colab": {
          "base_uri": "https://localhost:8080/",
          "height": 92
        },
        "outputId": "77787375-3888-4dc0-fe89-f732ec2530c6"
      },
      "source": [
        "arr = np.random.randn(4,4)\n",
        "\n",
        "arr"
      ],
      "execution_count": 16,
      "outputs": [
        {
          "output_type": "execute_result",
          "data": {
            "text/plain": [
              "array([[ 1.26764224,  1.00586137, -2.58882534,  0.78812871],\n",
              "       [-1.27216908, -0.57507728, -1.00078697,  1.4177798 ],\n",
              "       [ 0.48272792,  0.19036843,  1.69703361, -0.24523342],\n",
              "       [ 0.08778832,  0.08274331,  1.26587997,  0.46215939]])"
            ]
          },
          "metadata": {
            "tags": []
          },
          "execution_count": 16
        }
      ]
    },
    {
      "cell_type": "code",
      "metadata": {
        "id": "f4lQbEWnL5oa",
        "colab_type": "code",
        "colab": {
          "base_uri": "https://localhost:8080/",
          "height": 92
        },
        "outputId": "e65541cd-22dc-4853-b71c-571dad3d3435"
      },
      "source": [
        "arr > 0"
      ],
      "execution_count": 17,
      "outputs": [
        {
          "output_type": "execute_result",
          "data": {
            "text/plain": [
              "array([[ True,  True, False,  True],\n",
              "       [False, False, False,  True],\n",
              "       [ True,  True,  True, False],\n",
              "       [ True,  True,  True,  True]])"
            ]
          },
          "metadata": {
            "tags": []
          },
          "execution_count": 17
        }
      ]
    },
    {
      "cell_type": "code",
      "metadata": {
        "id": "C0toeiOWMp9o",
        "colab_type": "code",
        "colab": {
          "base_uri": "https://localhost:8080/",
          "height": 92
        },
        "outputId": "d67cfc09-557c-4f04-b714-2ce63b61b306"
      },
      "source": [
        "np.where(arr > 0, 2, -2)"
      ],
      "execution_count": 18,
      "outputs": [
        {
          "output_type": "execute_result",
          "data": {
            "text/plain": [
              "array([[ 2,  2, -2,  2],\n",
              "       [-2, -2, -2,  2],\n",
              "       [ 2,  2,  2, -2],\n",
              "       [ 2,  2,  2,  2]])"
            ]
          },
          "metadata": {
            "tags": []
          },
          "execution_count": 18
        }
      ]
    },
    {
      "cell_type": "code",
      "metadata": {
        "id": "gKqf_G9iMqkR",
        "colab_type": "code",
        "colab": {
          "base_uri": "https://localhost:8080/",
          "height": 92
        },
        "outputId": "09e6d24c-38cb-474e-c595-6672eb009888"
      },
      "source": [
        "np.where(arr > 0, 2, arr) ### np.where 스칼라,배열 조합 가능"
      ],
      "execution_count": 19,
      "outputs": [
        {
          "output_type": "execute_result",
          "data": {
            "text/plain": [
              "array([[ 2.        ,  2.        , -2.58882534,  2.        ],\n",
              "       [-1.27216908, -0.57507728, -1.00078697,  2.        ],\n",
              "       [ 2.        ,  2.        ,  2.        , -0.24523342],\n",
              "       [ 2.        ,  2.        ,  2.        ,  2.        ]])"
            ]
          },
          "metadata": {
            "tags": []
          },
          "execution_count": 19
        }
      ]
    },
    {
      "cell_type": "markdown",
      "metadata": {
        "id": "-2z6ljykM6oN",
        "colab_type": "text"
      },
      "source": [
        "# 4.3.2 수학메서드와 통계메서드\n",
        "### 수학함수 : 배열 메서드 사용가능"
      ]
    },
    {
      "cell_type": "code",
      "metadata": {
        "id": "1gZw_uHYM4V5",
        "colab_type": "code",
        "colab": {
          "base_uri": "https://localhost:8080/",
          "height": 111
        },
        "outputId": "3a742dd5-8d33-40a6-82e1-16217b4a414d"
      },
      "source": [
        "arr = np.random.randn(5, 4) # 임의의 정규 분포 데이터 생성 및 집계\n",
        "\n",
        "arr"
      ],
      "execution_count": 20,
      "outputs": [
        {
          "output_type": "execute_result",
          "data": {
            "text/plain": [
              "array([[ 0.66372518, -0.30583132,  0.00200025, -1.66643409],\n",
              "       [ 1.74122391,  0.31714216,  1.26444809, -0.15161117],\n",
              "       [ 0.31420765,  0.55722041,  1.2501629 , -1.39691334],\n",
              "       [-0.50505727,  1.29668461, -1.35094693, -0.50800754],\n",
              "       [-0.38613814,  0.59485824,  1.0362752 , -0.02535487]])"
            ]
          },
          "metadata": {
            "tags": []
          },
          "execution_count": 20
        }
      ]
    },
    {
      "cell_type": "code",
      "metadata": {
        "id": "QQJLX24vNeJJ",
        "colab_type": "code",
        "colab": {
          "base_uri": "https://localhost:8080/",
          "height": 36
        },
        "outputId": "0cc52877-4cc5-47d6-ac56-f9e7cc0d742c"
      },
      "source": [
        "arr.mean()"
      ],
      "execution_count": 21,
      "outputs": [
        {
          "output_type": "execute_result",
          "data": {
            "text/plain": [
              "0.1370826971129299"
            ]
          },
          "metadata": {
            "tags": []
          },
          "execution_count": 21
        }
      ]
    },
    {
      "cell_type": "code",
      "metadata": {
        "id": "UsfjRtIiNmPF",
        "colab_type": "code",
        "colab": {
          "base_uri": "https://localhost:8080/",
          "height": 36
        },
        "outputId": "3d8466ec-0128-4301-bf12-6ed77b8374a2"
      },
      "source": [
        "np.mean(arr)"
      ],
      "execution_count": 22,
      "outputs": [
        {
          "output_type": "execute_result",
          "data": {
            "text/plain": [
              "0.1370826971129299"
            ]
          },
          "metadata": {
            "tags": []
          },
          "execution_count": 22
        }
      ]
    },
    {
      "cell_type": "code",
      "metadata": {
        "id": "dBQodEvSNnZz",
        "colab_type": "code",
        "colab": {
          "base_uri": "https://localhost:8080/",
          "height": 36
        },
        "outputId": "a30d5afe-857a-42b6-a812-50a807fe1264"
      },
      "source": [
        "arr.sum()"
      ],
      "execution_count": 23,
      "outputs": [
        {
          "output_type": "execute_result",
          "data": {
            "text/plain": [
              "2.7416539422585977"
            ]
          },
          "metadata": {
            "tags": []
          },
          "execution_count": 23
        }
      ]
    },
    {
      "cell_type": "markdown",
      "metadata": {
        "id": "ggIROfcbNu7u",
        "colab_type": "text"
      },
      "source": [
        "### mean, sum : 선택적 axis인자 받아서 axis 통계 계산 및 한 차수 낮은 배열 반환"
      ]
    },
    {
      "cell_type": "code",
      "metadata": {
        "id": "W3BDkiqyNoxI",
        "colab_type": "code",
        "colab": {
          "base_uri": "https://localhost:8080/",
          "height": 36
        },
        "outputId": "c190dcb8-e706-4a60-8ee0-26e45e6fbe35"
      },
      "source": [
        "arr.mean(axis = 1) # row의 합"
      ],
      "execution_count": 24,
      "outputs": [
        {
          "output_type": "execute_result",
          "data": {
            "text/plain": [
              "array([-0.326635  ,  0.79280075,  0.1811694 , -0.26683178,  0.30491011])"
            ]
          },
          "metadata": {
            "tags": []
          },
          "execution_count": 24
        }
      ]
    },
    {
      "cell_type": "code",
      "metadata": {
        "id": "MiWcCznCOD6k",
        "colab_type": "code",
        "colab": {
          "base_uri": "https://localhost:8080/",
          "height": 36
        },
        "outputId": "ec520c35-9e69-4804-ebd4-369787968f48"
      },
      "source": [
        "arr.sum(axis = 0) # 모든 column 평균"
      ],
      "execution_count": 25,
      "outputs": [
        {
          "output_type": "execute_result",
          "data": {
            "text/plain": [
              "array([ 1.82796134,  2.46007409,  2.20193952, -3.748321  ])"
            ]
          },
          "metadata": {
            "tags": []
          },
          "execution_count": 25
        }
      ]
    },
    {
      "cell_type": "markdown",
      "metadata": {
        "id": "HmDAIFxfPBaf",
        "colab_type": "text"
      },
      "source": [
        "### cumsum : 누적함수"
      ]
    },
    {
      "cell_type": "code",
      "metadata": {
        "id": "cAQAJsb3OITN",
        "colab_type": "code",
        "colab": {
          "base_uri": "https://localhost:8080/",
          "height": 36
        },
        "outputId": "a807ab91-53e3-4790-f0b9-17d56cbe53ac"
      },
      "source": [
        "arr = np.arange(0, 8, 1)\n",
        "\n",
        "arr.cumsum()"
      ],
      "execution_count": 27,
      "outputs": [
        {
          "output_type": "execute_result",
          "data": {
            "text/plain": [
              "array([ 0,  1,  3,  6, 10, 15, 21, 28])"
            ]
          },
          "metadata": {
            "tags": []
          },
          "execution_count": 27
        }
      ]
    },
    {
      "cell_type": "code",
      "metadata": {
        "id": "hEhZLxz_PUCL",
        "colab_type": "code",
        "colab": {
          "base_uri": "https://localhost:8080/",
          "height": 73
        },
        "outputId": "bcc94c60-626d-41ee-951e-2efaf716e52f"
      },
      "source": [
        "arr = np.array([[0, 1, 2], [3, 4, 5,], [6, 7, 8]])\n",
        "\n",
        "arr"
      ],
      "execution_count": 28,
      "outputs": [
        {
          "output_type": "execute_result",
          "data": {
            "text/plain": [
              "array([[0, 1, 2],\n",
              "       [3, 4, 5],\n",
              "       [6, 7, 8]])"
            ]
          },
          "metadata": {
            "tags": []
          },
          "execution_count": 28
        }
      ]
    },
    {
      "cell_type": "code",
      "metadata": {
        "id": "7EQQ253KPj4c",
        "colab_type": "code",
        "colab": {
          "base_uri": "https://localhost:8080/",
          "height": 73
        },
        "outputId": "39a75aa5-c527-4da0-a86a-c2a111abee64"
      },
      "source": [
        "arr.cumsum(axis = 0)"
      ],
      "execution_count": 29,
      "outputs": [
        {
          "output_type": "execute_result",
          "data": {
            "text/plain": [
              "array([[ 0,  1,  2],\n",
              "       [ 3,  5,  7],\n",
              "       [ 9, 12, 15]])"
            ]
          },
          "metadata": {
            "tags": []
          },
          "execution_count": 29
        }
      ]
    },
    {
      "cell_type": "markdown",
      "metadata": {
        "id": "M3q6bUyuPvqe",
        "colab_type": "text"
      },
      "source": [
        "### cumprod : 누적곱 함수"
      ]
    },
    {
      "cell_type": "code",
      "metadata": {
        "id": "MQ-T9wIJPrE6",
        "colab_type": "code",
        "colab": {
          "base_uri": "https://localhost:8080/",
          "height": 73
        },
        "outputId": "3c320493-c284-4720-ff12-def2c61b7710"
      },
      "source": [
        "arr.cumprod(axis = 1)"
      ],
      "execution_count": 30,
      "outputs": [
        {
          "output_type": "execute_result",
          "data": {
            "text/plain": [
              "array([[  0,   0,   0],\n",
              "       [  3,  12,  60],\n",
              "       [  6,  42, 336]])"
            ]
          },
          "metadata": {
            "tags": []
          },
          "execution_count": 30
        }
      ]
    },
    {
      "cell_type": "code",
      "metadata": {
        "id": "u56B_gPTPvK9",
        "colab_type": "code",
        "colab": {}
      },
      "source": [
        ""
      ],
      "execution_count": 0,
      "outputs": []
    },
    {
      "cell_type": "markdown",
      "metadata": {
        "id": "b4EiaJn9P6Z3",
        "colab_type": "text"
      },
      "source": [
        "# 4.3.5 집합 관련 함수\n",
        "### np.unique : 배열 내 중복된 원소 제거 및 남은 원소 정렬 형태로 반환"
      ]
    },
    {
      "cell_type": "code",
      "metadata": {
        "id": "JZTXqUrDQnQ6",
        "colab_type": "code",
        "colab": {
          "base_uri": "https://localhost:8080/",
          "height": 36
        },
        "outputId": "104db9e8-6d45-4121-e74f-44d342b344e8"
      },
      "source": [
        "names = np.array(['Bob', 'Joe', 'Will', 'Bob', 'Will', 'Joe', 'Joe'])\n",
        "\n",
        "np.unique(names)"
      ],
      "execution_count": 32,
      "outputs": [
        {
          "output_type": "execute_result",
          "data": {
            "text/plain": [
              "array(['Bob', 'Joe', 'Will'], dtype='<U4')"
            ]
          },
          "metadata": {
            "tags": []
          },
          "execution_count": 32
        }
      ]
    },
    {
      "cell_type": "code",
      "metadata": {
        "id": "M55dJZp0QznR",
        "colab_type": "code",
        "colab": {
          "base_uri": "https://localhost:8080/",
          "height": 36
        },
        "outputId": "bb1eeae9-24cd-490e-ff98-eb2cc7e5e849"
      },
      "source": [
        "ints = np.array([3,3,3,2,2,1,1,4,4])\n",
        "\n",
        "np.unique(ints)"
      ],
      "execution_count": 33,
      "outputs": [
        {
          "output_type": "execute_result",
          "data": {
            "text/plain": [
              "array([1, 2, 3, 4])"
            ]
          },
          "metadata": {
            "tags": []
          },
          "execution_count": 33
        }
      ]
    },
    {
      "cell_type": "code",
      "metadata": {
        "id": "LIBd_Gt3Q_TV",
        "colab_type": "code",
        "colab": {
          "base_uri": "https://localhost:8080/",
          "height": 36
        },
        "outputId": "8bb22515-90c5-46bd-a807-115353024eeb"
      },
      "source": [
        "sorted(set(names)) # 파이썬만으로 np.unique() 구현"
      ],
      "execution_count": 36,
      "outputs": [
        {
          "output_type": "execute_result",
          "data": {
            "text/plain": [
              "['Bob', 'Joe', 'Will']"
            ]
          },
          "metadata": {
            "tags": []
          },
          "execution_count": 36
        }
      ]
    },
    {
      "cell_type": "markdown",
      "metadata": {
        "id": "XbUJpoxDRNe5",
        "colab_type": "text"
      },
      "source": [
        "### np.in1d : 두 개의 배열 인자로 받아, 첫 번째 배열의 원소가 두 번째 배열의 원소를 포함하는지 나타내는 불리언 배열"
      ]
    },
    {
      "cell_type": "code",
      "metadata": {
        "id": "8DZUb-X5RF2-",
        "colab_type": "code",
        "colab": {
          "base_uri": "https://localhost:8080/",
          "height": 36
        },
        "outputId": "fd902498-feb4-4504-b62f-ceebe092408e"
      },
      "source": [
        "values = np.array([6, 0, 0, 3, 2, 5, 6])\n",
        "\n",
        "np.in1d(values, [2, 3, 6])"
      ],
      "execution_count": 38,
      "outputs": [
        {
          "output_type": "execute_result",
          "data": {
            "text/plain": [
              "array([ True, False, False,  True,  True, False,  True])"
            ]
          },
          "metadata": {
            "tags": []
          },
          "execution_count": 38
        }
      ]
    },
    {
      "cell_type": "markdown",
      "metadata": {
        "id": "EQ5E-5QzR9ED",
        "colab_type": "text"
      },
      "source": [
        "###unique(x) : 중복 원소 제거 후 반환\n",
        "###intersect1d(x, y) : 공통 원소 반환 \n",
        "###union1d(x, y) : 합집합 반환\n",
        "###in1d(x, y) : x의 원소가 y의 원소에 포함되는지 불리언 반환\n",
        "###setdiff1d(x, y) : x와y의 차집합 반환\n",
        "###setxor1d(x, y) : 대칭차집합 반환"
      ]
    }
  ]
}